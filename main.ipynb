{
 "cells": [
  {
   "cell_type": "code",
   "execution_count": null,
   "metadata": {},
   "outputs": [],
   "source": [
    "from param.arg_utils import get_args\n",
    "from experiment import Experiment\n",
    "import easydict\n",
    "import gym\n",
    "import pygame\n",
    "import torch as th\n",
    "from stable_baselines3 import A2C,PPO\n",
    "from stable_baselines3.common.env_checker import check_env\n",
    "from model.extractor import StackedImgStateExtractor\n",
    "\n",
    "device = th.device(\"cuda:0\" if th.cuda.is_available() else \"cpu\")\n",
    "\n",
    "params = easydict.EasyDict({\n",
    "        'env':'gym-2d-perception-v1',\n",
    "        'gaze_method':'LookAhead',\n",
    "        'render':True,\n",
    "        'dt':0.1,\n",
    "        'map_scale':10,\n",
    "        'map_size':[640,480],\n",
    "        'agent_number':10,\n",
    "        'agent_max_speed':20,\n",
    "        'agent_radius':10,\n",
    "        'drone_max_speed':40,\n",
    "        'drone_max_acceleration':15,\n",
    "        'drone_radius':5,\n",
    "        'drone_max_yaw_speed':80,\n",
    "        'drone_view_depth' : 80,\n",
    "        'drone_view_range': 120,\n",
    "        'record': False,\n",
    "        'pillar_number':3\n",
    "    })\n",
    "\n",
    "alg_params = {\n",
    "    \"policy_kwargs\": dict(\n",
    "        net_arch=[512, dict(pi=[256], vf=[256])],\n",
    "        normalize_images=False,\n",
    "        features_extractor_class=StackedImgStateExtractor,\n",
    "        features_extractor_kwargs=dict(\n",
    "            device=device, cnn_encoder_name=\"CnnEncoder\"\n",
    "        ),\n",
    "    ),\n",
    "    \"learning_rate\": 1e-5,\n",
    "    \"gamma\": 0.99,\n",
    "    \"n_steps\": 128,\n",
    "    \"batch_size\": 512,\n",
    "    \"n_epochs\": 5,\n",
    "    \"clip_range\": 0.2,\n",
    "    \"ent_coef\": 0.025,\n",
    "    \"vf_coef\": 0.5,\n",
    "    \"target_kl\": 0.01,\n",
    "}\n",
    "\n",
    "env = gym.make('gym-2d-perception-v1', params=params) \n",
    "check_env(env)\n",
    "model = PPO(\n",
    "            \"MultiInputPolicy\",\n",
    "            env,\n",
    "            verbose=1,\n",
    "            device=device,\n",
    "            **alg_params\n",
    "        )\n",
    "model.learn(total_timesteps=10_000)\n",
    "pygame.display.quit()\n",
    "vec_env = model.get_env()\n",
    "vec_env.is_render = True\n",
    "obs = vec_env.reset()"
   ]
  },
  {
   "cell_type": "code",
   "execution_count": null,
   "metadata": {},
   "outputs": [],
   "source": [
    "for i in range(1000):\n",
    "    action, _state = model.predict(obs, deterministic=True)\n",
    "\n",
    "    print(action)\n",
    "\n",
    "    obs, reward, done, info = vec_env.step(action)\n",
    "    vec_env.render()"
   ]
  },
  {
   "cell_type": "code",
   "execution_count": null,
   "metadata": {},
   "outputs": [],
   "source": []
  }
 ],
 "metadata": {
  "kernelspec": {
   "display_name": "Python 3.9.13 ('thesis')",
   "language": "python",
   "name": "python3"
  },
  "language_info": {
   "codemirror_mode": {
    "name": "ipython",
    "version": 3
   },
   "file_extension": ".py",
   "mimetype": "text/x-python",
   "name": "python",
   "nbconvert_exporter": "python",
   "pygments_lexer": "ipython3",
   "version": "3.9.13"
  },
  "orig_nbformat": 4,
  "vscode": {
   "interpreter": {
    "hash": "cecda4d74d940d1081caccc4a6c9eb27911befeeeff8b1ccd2f7360c58004889"
   }
  }
 },
 "nbformat": 4,
 "nbformat_minor": 2
}
