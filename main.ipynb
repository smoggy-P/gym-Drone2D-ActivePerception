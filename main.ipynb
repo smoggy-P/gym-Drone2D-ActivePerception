{
 "cells": [
  {
   "cell_type": "code",
   "execution_count": null,
   "metadata": {},
   "outputs": [],
   "source": [
    "from param.arg_utils import get_args\n",
    "from experiment import Experiment\n",
    "import easydict\n",
    "import gym\n",
    "import pygame\n",
    "from stable_baselines3 import A2C,PPO\n",
    "from stable_baselines3.common.env_checker import check_env\n",
    "\n",
    "params = easydict.EasyDict({\n",
    "    'gaze_method':'NoControl',\n",
    "    'render':True,\n",
    "    'dt':0.1,\n",
    "    'map_scale':10,\n",
    "    'map_size':[640,480],\n",
    "    'agent_number':10,\n",
    "    'agent_max_speed':20,\n",
    "    'agent_radius':10,\n",
    "    'drone_max_speed':40,\n",
    "    'drone_max_acceleration':15,\n",
    "    'drone_radius':10,\n",
    "    'drone_max_yaw_speed':80\n",
    "})\n",
    "env = gym.make('gym-2d-perception-v0', params=params) \n",
    "check_env(env)\n",
    "model = PPO(\"MlpPolicy\", env, verbose=1)\n",
    "model.learn(total_timesteps=10_000)\n",
    "pygame.display.quit()\n",
    "vec_env = model.get_env()\n",
    "vec_env.is_render = True\n",
    "obs = vec_env.reset()"
   ]
  },
  {
   "cell_type": "code",
   "execution_count": null,
   "metadata": {},
   "outputs": [
    {
     "ename": "",
     "evalue": "",
     "output_type": "error",
     "traceback": [
      "\u001b[1;31mThe Kernel crashed while executing code in the the current cell or a previous cell. Please review the code in the cell(s) to identify a possible cause of the failure. Click <a href='https://aka.ms/vscodeJupyterKernelCrash'>here</a> for more info. View Jupyter <a href='command:jupyter.viewOutput'>log</a> for further details."
     ]
    }
   ],
   "source": [
    "for i in range(1000):\n",
    "    action, _state = model.predict(obs, deterministic=True)\n",
    "\n",
    "    print(action)\n",
    "\n",
    "    obs, reward, done, info = vec_env.step(action)\n",
    "    vec_env.render()"
   ]
  },
  {
   "cell_type": "code",
   "execution_count": null,
   "metadata": {},
   "outputs": [],
   "source": []
  }
 ],
 "metadata": {
  "kernelspec": {
   "display_name": "Python 3.10.6 ('thesis')",
   "language": "python",
   "name": "python3"
  },
  "language_info": {
   "codemirror_mode": {
    "name": "ipython",
    "version": 3
   },
   "file_extension": ".py",
   "mimetype": "text/x-python",
   "name": "python",
   "nbconvert_exporter": "python",
   "pygments_lexer": "ipython3",
   "version": "3.10.8"
  },
  "orig_nbformat": 4,
  "vscode": {
   "interpreter": {
    "hash": "c0a61fd399434d95b4c6afb330a619debf80b904c40dfe93c022f52fe402996d"
   }
  }
 },
 "nbformat": 4,
 "nbformat_minor": 2
}
