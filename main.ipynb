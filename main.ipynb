{
 "cells": [
  {
   "cell_type": "code",
   "execution_count": 5,
   "metadata": {},
   "outputs": [],
   "source": [
    "from param.arg_utils import get_args\n",
    "from experiment import Experiment\n",
    "import easydict\n",
    "import gym\n",
    "import pygame\n",
    "import torch as th\n",
    "from stable_baselines3 import A2C,PPO\n",
    "from stable_baselines3.common.env_checker import check_env\n",
    "from model.extractor import ImgStateExtractor\n",
    "import os\n",
    "os.environ['CUDA_LAUNCH_BLOCKING']='1'\n",
    "device = th.device(\"cuda:0\" if th.cuda.is_available() else \"cpu\")\n",
    "\n",
    "params = easydict.EasyDict({\n",
    "        'env':'gym-2d-perception-v1',\n",
    "        'gaze_method':'LookAhead',\n",
    "        'render':False,\n",
    "        'dt':0.1,\n",
    "        'map_scale':10,\n",
    "        'map_size':[640,480],\n",
    "        'agent_number':10,\n",
    "        'agent_max_speed':20,\n",
    "        'agent_radius':10,\n",
    "        'drone_max_speed':40,\n",
    "        'drone_max_acceleration':15,\n",
    "        'drone_radius':5,\n",
    "        'drone_max_yaw_speed':80,\n",
    "        'drone_view_depth' : 80,\n",
    "        'drone_view_range': 90,\n",
    "        'record': False,\n",
    "        'record_img':False,\n",
    "        'pillar_number':3\n",
    "    })"
   ]
  },
  {
   "cell_type": "code",
   "execution_count": null,
   "metadata": {},
   "outputs": [],
   "source": [
    "\n",
    "alg_params = {\n",
    "    \"policy_kwargs\": dict(\n",
    "        net_arch=[512, dict(pi=[256], vf=[256])],\n",
    "        normalize_images=False,\n",
    "        features_extractor_class=ImgStateExtractor,\n",
    "        features_extractor_kwargs=dict(\n",
    "            cnn_encoder_name=\"CnnEncoder\"\n",
    "        ),\n",
    "    ),\n",
    "}\n",
    "\n",
    "env = gym.make('gym-2d-perception-v1', params=params) \n",
    "check_env(env)\n",
    "model = PPO(\n",
    "            \"MultiInputPolicy\",\n",
    "            env,\n",
    "            verbose=1,\n",
    "            device=device,\n",
    "            tensorboard_log='./experiment/log/',\n",
    "            **alg_params\n",
    "        )\n",
    "model.learn(total_timesteps=10000)\n",
    "pygame.display.quit()\n",
    "vec_env = model.get_env()\n",
    "vec_env.is_render = True\n",
    "obs = vec_env.reset()"
   ]
  },
  {
   "cell_type": "code",
   "execution_count": null,
   "metadata": {},
   "outputs": [],
   "source": [
    "model.save('./trained_policy/lookahead.zip')"
   ]
  },
  {
   "cell_type": "code",
   "execution_count": null,
   "metadata": {},
   "outputs": [],
   "source": [
    "env = gym.make('gym-2d-perception-v1', params=params) \n",
    "\n",
    "model = PPO.load(path='./trained_policy/lookahead.zip')\n",
    "model.set_env(env)\n",
    "\n",
    "# model.learn(total_timesteps=30000)\n",
    "# pygame.display.quit()\n",
    "# vec_env = model.get_env()\n",
    "# obs = vec_env.reset()"
   ]
  },
  {
   "cell_type": "code",
   "execution_count": null,
   "metadata": {},
   "outputs": [],
   "source": [
    "params = easydict.EasyDict({\n",
    "        'env':'gym-2d-perception-v1',\n",
    "        'gaze_method':'LookAhead',\n",
    "        'render':True,\n",
    "        'dt':0.1,\n",
    "        'map_scale':10,\n",
    "        'map_size':[640,480],\n",
    "        'agent_number':10,\n",
    "        'agent_max_speed':20,\n",
    "        'agent_radius':10,\n",
    "        'drone_max_speed':40,\n",
    "        'drone_max_acceleration':15,\n",
    "        'drone_radius':5,\n",
    "        'drone_max_yaw_speed':80,\n",
    "        'drone_view_depth' : 80,\n",
    "        'drone_view_range': 90,\n",
    "        'record': False,\n",
    "        'record_img': False,\n",
    "        'pillar_number':3\n",
    "    })\n",
    "env = gym.make('gym-2d-perception-v1', params=params) \n",
    "obs = env.reset()\n",
    "for i in range(2000):\n",
    "    action, _state = model.predict(obs, deterministic=True)\n",
    "\n",
    "    obs, reward, done, info = env.step(action)\n",
    "    env.render()\n",
    "\n",
    "    if done:\n",
    "        obs = env.reset()"
   ]
  },
  {
   "cell_type": "code",
   "execution_count": null,
   "metadata": {},
   "outputs": [],
   "source": []
  }
 ],
 "metadata": {
  "kernelspec": {
   "display_name": "Python 3.9.13 ('thesis')",
   "language": "python",
   "name": "python3"
  },
  "language_info": {
   "codemirror_mode": {
    "name": "ipython",
    "version": 3
   },
   "file_extension": ".py",
   "mimetype": "text/x-python",
   "name": "python",
   "nbconvert_exporter": "python",
   "pygments_lexer": "ipython3",
   "version": "3.9.13 (main, Oct 13 2022, 21:15:33) \n[GCC 11.2.0]"
  },
  "orig_nbformat": 4,
  "vscode": {
   "interpreter": {
    "hash": "cecda4d74d940d1081caccc4a6c9eb27911befeeeff8b1ccd2f7360c58004889"
   }
  }
 },
 "nbformat": 4,
 "nbformat_minor": 2
}
