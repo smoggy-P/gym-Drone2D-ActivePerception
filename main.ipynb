{
 "cells": [
  {
   "cell_type": "code",
   "execution_count": 1,
   "metadata": {},
   "outputs": [
    {
     "name": "stdout",
     "output_type": "stream",
     "text": [
      "pygame 2.1.2 (SDL 2.0.16, Python 3.9.13)\n",
      "Hello from the pygame community. https://www.pygame.org/contribute.html\n"
     ]
    },
    {
     "ename": "AttributeError",
     "evalue": "'EasyDict' object has no attribute 'drone_view_range'",
     "output_type": "error",
     "traceback": [
      "\u001b[0;31m---------------------------------------------------------------------------\u001b[0m",
      "\u001b[0;31mAttributeError\u001b[0m                            Traceback (most recent call last)",
      "Cell \u001b[0;32mIn [1], line 48\u001b[0m\n\u001b[1;32m     13\u001b[0m params \u001b[39m=\u001b[39m easydict\u001b[39m.\u001b[39mEasyDict({\n\u001b[1;32m     14\u001b[0m     \u001b[39m'\u001b[39m\u001b[39mgaze_method\u001b[39m\u001b[39m'\u001b[39m:\u001b[39m'\u001b[39m\u001b[39mNoControl\u001b[39m\u001b[39m'\u001b[39m,\n\u001b[1;32m     15\u001b[0m     \u001b[39m'\u001b[39m\u001b[39mrender\u001b[39m\u001b[39m'\u001b[39m:\u001b[39mTrue\u001b[39;00m,\n\u001b[0;32m   (...)\u001b[0m\n\u001b[1;32m     25\u001b[0m     \u001b[39m'\u001b[39m\u001b[39mdrone_max_yaw_speed\u001b[39m\u001b[39m'\u001b[39m:\u001b[39m80\u001b[39m\n\u001b[1;32m     26\u001b[0m })\n\u001b[1;32m     28\u001b[0m alg_params \u001b[39m=\u001b[39m {\n\u001b[1;32m     29\u001b[0m     \u001b[39m\"\u001b[39m\u001b[39mpolicy_kwargs\u001b[39m\u001b[39m\"\u001b[39m: \u001b[39mdict\u001b[39m(\n\u001b[1;32m     30\u001b[0m         net_arch\u001b[39m=\u001b[39m[\u001b[39m512\u001b[39m, \u001b[39mdict\u001b[39m(pi\u001b[39m=\u001b[39m[\u001b[39m256\u001b[39m], vf\u001b[39m=\u001b[39m[\u001b[39m256\u001b[39m])],\n\u001b[0;32m   (...)\u001b[0m\n\u001b[1;32m     45\u001b[0m     \u001b[39m\"\u001b[39m\u001b[39mtarget_kl\u001b[39m\u001b[39m\"\u001b[39m: \u001b[39m0.01\u001b[39m,\n\u001b[1;32m     46\u001b[0m }\n\u001b[0;32m---> 48\u001b[0m env \u001b[39m=\u001b[39m gym\u001b[39m.\u001b[39;49mmake(\u001b[39m'\u001b[39;49m\u001b[39mgym-2d-perception-v1\u001b[39;49m\u001b[39m'\u001b[39;49m, params\u001b[39m=\u001b[39;49mparams) \n\u001b[1;32m     49\u001b[0m check_env(env)\n\u001b[1;32m     50\u001b[0m model \u001b[39m=\u001b[39m PPO(\n\u001b[1;32m     51\u001b[0m             \u001b[39m\"\u001b[39m\u001b[39mMultiInputPolicy\u001b[39m\u001b[39m\"\u001b[39m,\n\u001b[1;32m     52\u001b[0m             env,\n\u001b[0;32m   (...)\u001b[0m\n\u001b[1;32m     55\u001b[0m             \u001b[39m*\u001b[39m\u001b[39m*\u001b[39malg_params\n\u001b[1;32m     56\u001b[0m         )\n",
      "File \u001b[0;32m~/anaconda3/envs/thesis/lib/python3.9/site-packages/gym/envs/registration.py:184\u001b[0m, in \u001b[0;36mmake\u001b[0;34m(id, **kwargs)\u001b[0m\n\u001b[1;32m    183\u001b[0m \u001b[39mdef\u001b[39;00m \u001b[39mmake\u001b[39m(\u001b[39mid\u001b[39m, \u001b[39m*\u001b[39m\u001b[39m*\u001b[39mkwargs):\n\u001b[0;32m--> 184\u001b[0m     \u001b[39mreturn\u001b[39;00m registry\u001b[39m.\u001b[39;49mmake(\u001b[39mid\u001b[39;49m, \u001b[39m*\u001b[39;49m\u001b[39m*\u001b[39;49mkwargs)\n",
      "File \u001b[0;32m~/anaconda3/envs/thesis/lib/python3.9/site-packages/gym/envs/registration.py:106\u001b[0m, in \u001b[0;36mEnvRegistry.make\u001b[0;34m(self, path, **kwargs)\u001b[0m\n\u001b[1;32m    104\u001b[0m     logger\u001b[39m.\u001b[39minfo(\u001b[39m\"\u001b[39m\u001b[39mMaking new env: \u001b[39m\u001b[39m%s\u001b[39;00m\u001b[39m\"\u001b[39m, path)\n\u001b[1;32m    105\u001b[0m spec \u001b[39m=\u001b[39m \u001b[39mself\u001b[39m\u001b[39m.\u001b[39mspec(path)\n\u001b[0;32m--> 106\u001b[0m env \u001b[39m=\u001b[39m spec\u001b[39m.\u001b[39;49mmake(\u001b[39m*\u001b[39;49m\u001b[39m*\u001b[39;49mkwargs)\n\u001b[1;32m    107\u001b[0m \u001b[39m# We used to have people override _reset/_step rather than\u001b[39;00m\n\u001b[1;32m    108\u001b[0m \u001b[39m# reset/step. Set _gym_disable_underscore_compat = True on\u001b[39;00m\n\u001b[1;32m    109\u001b[0m \u001b[39m# your environment if you use these methods and don't want\u001b[39;00m\n\u001b[1;32m    110\u001b[0m \u001b[39m# compatibility code to be invoked.\u001b[39;00m\n\u001b[1;32m    111\u001b[0m \u001b[39mif\u001b[39;00m (\n\u001b[1;32m    112\u001b[0m     \u001b[39mhasattr\u001b[39m(env, \u001b[39m\"\u001b[39m\u001b[39m_reset\u001b[39m\u001b[39m\"\u001b[39m)\n\u001b[1;32m    113\u001b[0m     \u001b[39mand\u001b[39;00m \u001b[39mhasattr\u001b[39m(env, \u001b[39m\"\u001b[39m\u001b[39m_step\u001b[39m\u001b[39m\"\u001b[39m)\n\u001b[1;32m    114\u001b[0m     \u001b[39mand\u001b[39;00m \u001b[39mnot\u001b[39;00m \u001b[39mgetattr\u001b[39m(env, \u001b[39m\"\u001b[39m\u001b[39m_gym_disable_underscore_compat\u001b[39m\u001b[39m\"\u001b[39m, \u001b[39mFalse\u001b[39;00m)\n\u001b[1;32m    115\u001b[0m ):\n",
      "File \u001b[0;32m~/anaconda3/envs/thesis/lib/python3.9/site-packages/gym/envs/registration.py:76\u001b[0m, in \u001b[0;36mEnvSpec.make\u001b[0;34m(self, **kwargs)\u001b[0m\n\u001b[1;32m     74\u001b[0m \u001b[39melse\u001b[39;00m:\n\u001b[1;32m     75\u001b[0m     \u001b[39mcls\u001b[39m \u001b[39m=\u001b[39m load(\u001b[39mself\u001b[39m\u001b[39m.\u001b[39mentry_point)\n\u001b[0;32m---> 76\u001b[0m     env \u001b[39m=\u001b[39m \u001b[39mcls\u001b[39;49m(\u001b[39m*\u001b[39;49m\u001b[39m*\u001b[39;49m_kwargs)\n\u001b[1;32m     78\u001b[0m \u001b[39m# Make the environment aware of which spec it came from.\u001b[39;00m\n\u001b[1;32m     79\u001b[0m spec \u001b[39m=\u001b[39m copy\u001b[39m.\u001b[39mdeepcopy(\u001b[39mself\u001b[39m)\n",
      "File \u001b[0;32m~/thesis/gym-Drone2D-ActivePerception/gym_2d_perception/envs/drone_v1.py:791\u001b[0m, in \u001b[0;36mDrone2DEnv1.__init__\u001b[0;34m(self, params)\u001b[0m\n\u001b[1;32m    788\u001b[0m \u001b[39mself\u001b[39m\u001b[39m.\u001b[39mtarget_list \u001b[39m=\u001b[39m [np\u001b[39m.\u001b[39marray([\u001b[39m520\u001b[39m, \u001b[39m100\u001b[39m]), np\u001b[39m.\u001b[39marray([\u001b[39m120\u001b[39m, \u001b[39m50\u001b[39m]), np\u001b[39m.\u001b[39marray([\u001b[39m120\u001b[39m, \u001b[39m380\u001b[39m]), np\u001b[39m.\u001b[39marray([\u001b[39m520\u001b[39m, \u001b[39m380\u001b[39m])]\n\u001b[1;32m    789\u001b[0m random\u001b[39m.\u001b[39mshuffle(\u001b[39mself\u001b[39m\u001b[39m.\u001b[39mtarget_list)\n\u001b[0;32m--> 791\u001b[0m \u001b[39mself\u001b[39m\u001b[39m.\u001b[39mdrone \u001b[39m=\u001b[39m Drone2D(\u001b[39mself\u001b[39;49m\u001b[39m.\u001b[39;49mdim[\u001b[39m0\u001b[39;49m] \u001b[39m/\u001b[39;49m \u001b[39m2\u001b[39;49m, params\u001b[39m.\u001b[39;49mdrone_radius \u001b[39m+\u001b[39;49m params\u001b[39m.\u001b[39;49mmap_scale, \u001b[39m-\u001b[39;49m\u001b[39m90\u001b[39;49m, \u001b[39mself\u001b[39;49m\u001b[39m.\u001b[39;49mdt, \u001b[39mself\u001b[39;49m\u001b[39m.\u001b[39;49mdim, params)\n\u001b[1;32m    793\u001b[0m circular_obstacles \u001b[39m=\u001b[39m []\n\u001b[1;32m    794\u001b[0m \u001b[39mfor\u001b[39;00m i \u001b[39min\u001b[39;00m \u001b[39mrange\u001b[39m(\u001b[39mself\u001b[39m\u001b[39m.\u001b[39mparams\u001b[39m.\u001b[39mpillar_number):\n",
      "File \u001b[0;32m~/thesis/gym-Drone2D-ActivePerception/gym_2d_perception/envs/drone_v1.py:548\u001b[0m, in \u001b[0;36mDrone2D.__init__\u001b[0;34m(self, init_x, init_y, init_yaw, dt, dim, params)\u001b[0m\n\u001b[1;32m    546\u001b[0m \u001b[39mself\u001b[39m\u001b[39m.\u001b[39my \u001b[39m=\u001b[39m init_y\n\u001b[1;32m    547\u001b[0m \u001b[39mself\u001b[39m\u001b[39m.\u001b[39myaw \u001b[39m=\u001b[39m init_yaw \u001b[39m%\u001b[39m \u001b[39m360\u001b[39m\n\u001b[0;32m--> 548\u001b[0m \u001b[39mself\u001b[39m\u001b[39m.\u001b[39myaw_range \u001b[39m=\u001b[39m params\u001b[39m.\u001b[39;49mdrone_view_range\n\u001b[1;32m    549\u001b[0m \u001b[39mself\u001b[39m\u001b[39m.\u001b[39myaw_depth \u001b[39m=\u001b[39m params\u001b[39m.\u001b[39mdrone_view_depth\n\u001b[1;32m    550\u001b[0m \u001b[39mself\u001b[39m\u001b[39m.\u001b[39mradius \u001b[39m=\u001b[39m params\u001b[39m.\u001b[39mdrone_radius\n",
      "\u001b[0;31mAttributeError\u001b[0m: 'EasyDict' object has no attribute 'drone_view_range'"
     ]
    }
   ],
   "source": [
    "from param.arg_utils import get_args\n",
    "from experiment import Experiment\n",
    "import easydict\n",
    "import gym\n",
    "import pygame\n",
    "import torch as th\n",
    "from stable_baselines3 import A2C,PPO\n",
    "from stable_baselines3.common.env_checker import check_env\n",
    "from model.extractor import StackedImgStateExtractor\n",
    "\n",
    "device = th.device(\"cuda:0\" if th.cuda.is_available() else \"cpu\")\n",
    "\n",
    "params = easydict.EasyDict({\n",
    "        'env':'gym-2d-perception-v1',\n",
    "        'gaze_method':'LookAhead',\n",
    "        'render':True,\n",
    "        'dt':0.1,\n",
    "        'map_scale':10,\n",
    "        'map_size':[640,480],\n",
    "        'agent_number':10,\n",
    "        'agent_max_speed':20,\n",
    "        'agent_radius':10,\n",
    "        'drone_max_speed':40,\n",
    "        'drone_max_acceleration':15,\n",
    "        'drone_radius':5,\n",
    "        'drone_max_yaw_speed':80,\n",
    "        'drone_view_depth' : 80,\n",
    "        'drone_view_range': 120,\n",
    "        'record': False,\n",
    "        'pillar_number':3\n",
    "    })\n",
    "\n",
    "alg_params = {\n",
    "    \"policy_kwargs\": dict(\n",
    "        net_arch=[512, dict(pi=[256], vf=[256])],\n",
    "        normalize_images=False,\n",
    "        features_extractor_class=StackedImgStateExtractor,\n",
    "        features_extractor_kwargs=dict(\n",
    "            device=device, cnn_encoder_name=\"CnnEncoder\"\n",
    "        ),\n",
    "    ),\n",
    "    \"learning_rate\": 1e-5,\n",
    "    \"gamma\": 0.99,\n",
    "    \"n_steps\": 128,\n",
    "    \"batch_size\": 512,\n",
    "    \"n_epochs\": 5,\n",
    "    \"clip_range\": 0.2,\n",
    "    \"ent_coef\": 0.025,\n",
    "    \"vf_coef\": 0.5,\n",
    "    \"target_kl\": 0.01,\n",
    "}\n",
    "\n",
    "env = gym.make('gym-2d-perception-v1', params=params) \n",
    "check_env(env)\n",
    "model = PPO(\n",
    "            \"MultiInputPolicy\",\n",
    "            env,\n",
    "            verbose=1,\n",
    "            device=device,\n",
    "            **alg_params\n",
    "        )\n",
    "model.learn(total_timesteps=10_000)\n",
    "pygame.display.quit()\n",
    "vec_env = model.get_env()\n",
    "vec_env.is_render = True\n",
    "obs = vec_env.reset()"
   ]
  },
  {
   "cell_type": "code",
   "execution_count": null,
   "metadata": {},
   "outputs": [
    {
     "ename": "",
     "evalue": "",
     "output_type": "error",
     "traceback": [
      "\u001b[1;31mThe Kernel crashed while executing code in the the current cell or a previous cell. Please review the code in the cell(s) to identify a possible cause of the failure. Click <a href='https://aka.ms/vscodeJupyterKernelCrash'>here</a> for more info. View Jupyter <a href='command:jupyter.viewOutput'>log</a> for further details."
     ]
    }
   ],
   "source": [
    "for i in range(1000):\n",
    "    action, _state = model.predict(obs, deterministic=True)\n",
    "\n",
    "    print(action)\n",
    "\n",
    "    obs, reward, done, info = vec_env.step(action)\n",
    "    vec_env.render()"
   ]
  },
  {
   "cell_type": "code",
   "execution_count": null,
   "metadata": {},
   "outputs": [],
   "source": []
  }
 ],
 "metadata": {
  "kernelspec": {
   "display_name": "Python 3.9.13 ('thesis')",
   "language": "python",
   "name": "python3"
  },
  "language_info": {
   "codemirror_mode": {
    "name": "ipython",
    "version": 3
   },
   "file_extension": ".py",
   "mimetype": "text/x-python",
   "name": "python",
   "nbconvert_exporter": "python",
   "pygments_lexer": "ipython3",
   "version": "3.9.13"
  },
  "orig_nbformat": 4,
  "vscode": {
   "interpreter": {
    "hash": "cecda4d74d940d1081caccc4a6c9eb27911befeeeff8b1ccd2f7360c58004889"
   }
  }
 },
 "nbformat": 4,
 "nbformat_minor": 2
}
