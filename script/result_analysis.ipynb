{
 "cells": [
  {
   "cell_type": "code",
   "execution_count": 94,
   "metadata": {},
   "outputs": [],
   "source": [
    "import pandas as pd\n",
    "import numpy as np\n",
    "from matplotlib import pyplot as plt\n",
    "import glob\n",
    "import os"
   ]
  },
  {
   "cell_type": "code",
   "execution_count": 95,
   "metadata": {},
   "outputs": [],
   "source": [
    "directory_path = \"../experiment/\"\n",
    "\n",
    "# Get all CSV file names in the directory\n",
    "csv_files = [file for file in os.listdir(directory_path) if file.endswith(\".csv\")]\n",
    "dataframes = []\n",
    "for file in csv_files:\n",
    "    file_path = os.path.join(directory_path, file)\n",
    "    dataframe = pd.read_csv(file_path)\n",
    "    dataframes.append(dataframe)\n",
    "df = pd.concat(dataframes, ignore_index=True)\n"
   ]
  },
  {
   "cell_type": "code",
   "execution_count": 96,
   "metadata": {},
   "outputs": [
    {
     "data": {
      "text/html": [
       "<div>\n",
       "<style scoped>\n",
       "    .dataframe tbody tr th:only-of-type {\n",
       "        vertical-align: middle;\n",
       "    }\n",
       "\n",
       "    .dataframe tbody tr th {\n",
       "        vertical-align: top;\n",
       "    }\n",
       "\n",
       "    .dataframe thead th {\n",
       "        text-align: right;\n",
       "    }\n",
       "</style>\n",
       "<table border=\"1\" class=\"dataframe\">\n",
       "  <thead>\n",
       "    <tr style=\"text-align: right;\">\n",
       "      <th></th>\n",
       "      <th>Method</th>\n",
       "      <th>Planner</th>\n",
       "      <th>Number of agents</th>\n",
       "      <th>Number of pillars</th>\n",
       "      <th>Agent speed</th>\n",
       "      <th>Drone speed</th>\n",
       "      <th>Total samples</th>\n",
       "      <th>Success</th>\n",
       "      <th>Static collision</th>\n",
       "      <th>Dynamic collision</th>\n",
       "      <th>Area covered per step</th>\n",
       "      <th>Agent tracked per step</th>\n",
       "      <th>Agent tracking time</th>\n",
       "    </tr>\n",
       "  </thead>\n",
       "  <tbody>\n",
       "  </tbody>\n",
       "</table>\n",
       "</div>"
      ],
      "text/plain": [
       "Empty DataFrame\n",
       "Columns: [Method, Planner, Number of agents, Number of pillars, Agent speed, Drone speed, Total samples, Success, Static collision, Dynamic collision, Area covered per step, Agent tracked per step, Agent tracking time]\n",
       "Index: []"
      ]
     },
     "execution_count": 96,
     "metadata": {},
     "output_type": "execute_result"
    }
   ],
   "source": [
    "gaze_methods = ['NoControl', 'LookAhead', 'Owl', 'Rotating']\n",
    "planners = ['Jerk_Primitive', 'Primitive', 'MPC']\n",
    "agent_numbers = [5, 10, 15]\n",
    "pillar_numbers = [0, 5, 10]\n",
    "agent_max_speeds = [20, 30, 40, 50]\n",
    "drone_max_speeds = [20, 30, 40]\n",
    "\n",
    "result_df = {\n",
    "    'Method':[],\n",
    "    'Planner':[],\n",
    "    'Number of agents':[],\n",
    "    'Number of pillars':[],\n",
    "    'Agent speed':[],\n",
    "    'Drone speed':[]\n",
    "}\n",
    "result_df = pd.DataFrame([], columns=['Method', \n",
    "                                      'Planner', \n",
    "                                      'Number of agents', \n",
    "                                      'Number of pillars', \n",
    "                                      'Agent speed', \n",
    "                                      'Drone speed',\n",
    "                                      'Total samples',\n",
    "                                      'Success',\n",
    "                                      'Static collision',\n",
    "                                      'Dynamic collision',\n",
    "                                      'Area covered per step',\n",
    "                                      'Agent tracked per step',\n",
    "                                      'Agent tracking time'])\n",
    "result_df\n",
    "# df.T.plot(kind='bar', title='From Mon To Fri')\n",
    "# plt.show()"
   ]
  },
  {
   "cell_type": "code",
   "execution_count": 97,
   "metadata": {},
   "outputs": [],
   "source": [
    "result_df = pd.DataFrame([], columns=['Method', \n",
    "                                      'Planner', \n",
    "                                      'Number of agents', \n",
    "                                      'Number of pillars', \n",
    "                                      'Agent speed', \n",
    "                                      'Drone speed',\n",
    "                                      'Total samples',\n",
    "                                      'Success',\n",
    "                                      'Static collision',\n",
    "                                      'Dynamic collision',\n",
    "                                      'Area covered per step',\n",
    "                                      'Agent tracked per step',\n",
    "                                      'Agent tracking time'])\n",
    "for gaze_method in gaze_methods:\n",
    "    for agent_number in agent_numbers:\n",
    "        for pillar_number in pillar_numbers:\n",
    "            for agent_speed in agent_max_speeds:\n",
    "                for drone_speed in drone_max_speeds:\n",
    "                    for planner in planners:\n",
    "                        df_i = df[(df['Method'] == gaze_method) &\n",
    "                                  (df['Planner'] == planner) &\n",
    "                                  (df['Number of agents']==agent_number) & \n",
    "                                  (df['Number of pillars']==pillar_number) &\n",
    "                                  (df['Agent speed']==agent_speed) &\n",
    "                                  (df['Drone speed']==drone_speed) &\n",
    "                                  (df['Steps'] >= 10)].copy(deep=True)\n",
    "                        if df_i.shape[0] != 0:\n",
    "                            # df_i.loc[df['Agent tracked']==0,'Agent tracked time'] = 0\n",
    "                            df_i.loc[:,'Total track time'] = df_i.loc[:,'Agent tracked time']*df_i.loc[:,'Agent tracked']\n",
    "                            # print(df_i)\n",
    "                            result_df.loc[len(result_df)] = [\n",
    "                                gaze_method,\n",
    "                                planner,\n",
    "                                agent_number,\n",
    "                                pillar_number,\n",
    "                                agent_speed,\n",
    "                                drone_speed,\n",
    "                                df_i.shape[0], #total samples\n",
    "                                df_i['Success'].sum(),#total success\n",
    "                                df_i['Static Collision'].sum(),\n",
    "                                df_i['Dynamic Collision'].sum(),\n",
    "                                df_i['Grid discovered'].sum() / df_i['Steps'].sum(),\n",
    "                                100 * df_i['Agent tracked'].sum() / df_i['Steps'].sum(),\n",
    "                                df_i['Total track time'].sum() / (df_i['Agent tracked']).sum()\n",
    "                            ]\n"
   ]
  },
  {
   "cell_type": "code",
   "execution_count": 98,
   "metadata": {},
   "outputs": [],
   "source": [
    "\n",
    "result_df['Success rate'] = result_df['Success'] / result_df['Total samples']\n",
    "result_df['velocity ratio'] = result_df['Agent speed'] / result_df['Drone speed']\n",
    "result_df.to_csv('./post.csv')                            "
   ]
  },
  {
   "cell_type": "code",
   "execution_count": 102,
   "metadata": {},
   "outputs": [
    {
     "ename": "TypeError",
     "evalue": "'NoneType' object is not iterable",
     "output_type": "error",
     "traceback": [
      "\u001b[0;31m---------------------------------------------------------------------------\u001b[0m",
      "\u001b[0;31mTypeError\u001b[0m                                 Traceback (most recent call last)",
      "Cell \u001b[0;32mIn[102], line 19\u001b[0m\n\u001b[1;32m     16\u001b[0m y_values \u001b[39m=\u001b[39m []\n\u001b[1;32m     17\u001b[0m rects \u001b[39m=\u001b[39m []\n\u001b[0;32m---> 19\u001b[0m \u001b[39mfor\u001b[39;00m x_value \u001b[39min\u001b[39;00m x_values:\n\u001b[1;32m     20\u001b[0m     df_single \u001b[39m=\u001b[39m df[result_df[x_label] \u001b[39m==\u001b[39m x_value]\n\u001b[1;32m     21\u001b[0m     y_values\u001b[39m.\u001b[39mappend(df_single[\u001b[39m'\u001b[39m\u001b[39mSuccess\u001b[39m\u001b[39m'\u001b[39m]\u001b[39m.\u001b[39msum() \u001b[39m/\u001b[39m df_single[\u001b[39m'\u001b[39m\u001b[39mTotal samples\u001b[39m\u001b[39m'\u001b[39m]\u001b[39m.\u001b[39msum())\n",
      "\u001b[0;31mTypeError\u001b[0m: 'NoneType' object is not iterable"
     ]
    },
    {
     "data": {
      "image/png": "[encoded data removed]",
      "text/plain": [
       "<Figure size 640x480 with 1 Axes>"
      ]
     },
     "metadata": {},
     "output_type": "display_data"
    }
   ],
   "source": [
    "import matplotlib as mpl\n",
    "fig, ax = plt.subplots()\n",
    "width = 0.2\n",
    "x_label = 'velocity ratio'\n",
    "legend = 'Method'\n",
    "\n",
    "x_values = (result_df[x_label].unique()).sort(axis=0)\n",
    "labels = result_df[legend].unique()\n",
    "\n",
    "cmap = mpl.cm.get_cmap(\"viridis\", len(labels))\n",
    "colors = cmap(np.linspace(0, 1, len(labels)))\n",
    "\n",
    "for i, label in enumerate(labels):\n",
    "    \n",
    "    df = result_df[result_df[legend] == label]\n",
    "    y_values = []\n",
    "    rects = []\n",
    "\n",
    "    for x_value in x_values:\n",
    "        df_single = df[result_df[x_label] == x_value]\n",
    "        y_values.append(df_single['Success'].sum() / df_single['Total samples'].sum())\n",
    "    \n",
    "    rects.append(ax.bar(np.arange(len(x_values)) + i*width, y_values, width, color=colors[i]))\n",
    "    \n",
    "plt.show()"
   ]
  },
  {
   "cell_type": "code",
   "execution_count": null,
   "metadata": {},
   "outputs": [],
   "source": []
  }
 ],
 "metadata": {
  "kernelspec": {
   "display_name": "thesis",
   "language": "python",
   "name": "python3"
  },
  "language_info": {
   "codemirror_mode": {
    "name": "ipython",
    "version": 3
   },
   "file_extension": ".py",
   "mimetype": "text/x-python",
   "name": "python",
   "nbconvert_exporter": "python",
   "pygments_lexer": "ipython3",
   "version": "3.9.13"
  },
  "orig_nbformat": 4,
  "vscode": {
   "interpreter": {
    "hash": "cecda4d74d940d1081caccc4a6c9eb27911befeeeff8b1ccd2f7360c58004889"
   }
  }
 },
 "nbformat": 4,
 "nbformat_minor": 2
}
