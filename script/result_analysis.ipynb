{
 "cells": [
  {
   "cell_type": "code",
   "execution_count": 79,
   "metadata": {},
   "outputs": [],
   "source": [
    "import pandas as pd\n",
    "import numpy as np\n",
    "from matplotlib import pyplot as plt\n",
    "import glob\n",
    "import os"
   ]
  },
  {
   "cell_type": "code",
   "execution_count": 80,
   "metadata": {},
   "outputs": [],
   "source": [
    "directory_path = \"../experiment/\"\n",
    "\n",
    "# Get all CSV file names in the directory\n",
    "csv_files = [file for file in os.listdir(directory_path) if file.endswith(\".csv\")]\n",
    "dataframes = []\n",
    "for file in csv_files:\n",
    "    file_path = os.path.join(directory_path, file)\n",
    "    dataframe = pd.read_csv(file_path)\n",
    "    dataframes.append(dataframe)\n",
    "df = pd.concat(dataframes, ignore_index=True)\n"
   ]
  },
  {
   "cell_type": "code",
   "execution_count": 81,
   "metadata": {},
   "outputs": [],
   "source": [
    "gaze_methods = ['NoControl', 'LookAhead', 'Owl']\n",
    "planners = ['Jerk_Primitive', 'MPC', 'Primitive']\n",
    "agent_numbers = [10, 20]\n",
    "pillar_numbers = [0, 5, 10]\n",
    "agent_max_speeds = [20, 30, 40, 50, 55, 60]\n",
    "drone_max_speeds = [20, 30, 40]\n",
    "depth_vars = [5]"
   ]
  },
  {
   "cell_type": "code",
   "execution_count": 82,
   "metadata": {},
   "outputs": [],
   "source": [
    "result_df = pd.DataFrame([], columns=['Method', \n",
    "                                      'Planner', \n",
    "                                      'Number of agents', \n",
    "                                      'Number of pillars', \n",
    "                                      'Agent speed', \n",
    "                                      'Drone speed',\n",
    "                                      'Depth variance',\n",
    "                                      'Total samples',\n",
    "                                      'Success',\n",
    "                                      'Static Collision',\n",
    "                                      'Dynamic Collision',\n",
    "                                      'Success rate'])\n",
    "for gaze_method in gaze_methods:\n",
    "    for agent_number in agent_numbers:\n",
    "        for pillar_number in pillar_numbers:\n",
    "            for agent_speed in agent_max_speeds:\n",
    "                for drone_speed in drone_max_speeds:\n",
    "                    for planner in planners:\n",
    "                        for depth_var in depth_vars:\n",
    "                            df_i = df[(df['Method'] == gaze_method) &\n",
    "                                    (df['Planner'] == planner) &\n",
    "                                    (df['Number of agents']==agent_number) & \n",
    "                                    (df['Number of pillars']==pillar_number) &\n",
    "                                    (df['Agent speed']==agent_speed) &\n",
    "                                    (df['Drone speed']==drone_speed) &\n",
    "                                    (df['Depth variance']==depth_var)].copy(deep=True)\n",
    "                            if df_i.shape[0] != 0:\n",
    "                                result_df.loc[len(result_df)] = [\n",
    "                                    gaze_method,\n",
    "                                    planner,\n",
    "                                    agent_number,\n",
    "                                    pillar_number,\n",
    "                                    agent_speed,\n",
    "                                    drone_speed,\n",
    "                                    depth_var,\n",
    "                                    df_i.shape[0], #total samples\n",
    "                                    df_i['Success'].sum(),\n",
    "                                    df_i['Static Collision'].sum(),\n",
    "                                    df_i['Dynamic Collision'].sum(),\n",
    "                                    df_i['Success'].sum() / df_i.shape[0] # Success rate\n",
    "                                    # df_i['Success'].sum(),#total success\n",
    "                                    # df_i['Static Collision'].sum(),\n",
    "                                    # df_i['Dynamic Collision'].sum(),\n",
    "                                    # df_i['Grid discovered'].sum() / df_i['Steps'].sum(),\n",
    "                                    # 100 * df_i['Agent tracked'].sum() / df_i['Steps'].sum(),\n",
    "                                    # df_i['Total track time'].sum() / (df_i['Agent tracked']).sum()\n",
    "                                ]\n"
   ]
  },
  {
   "cell_type": "code",
   "execution_count": 83,
   "metadata": {},
   "outputs": [],
   "source": [
    "\n",
    "# result_df['Success rate'] = result_df['Success'] / result_df['Total samples']\n",
    "result_df['velocity ratio'] = result_df['Agent speed'] / result_df['Drone speed']\n",
    "result_df.to_csv('./post.csv')                            "
   ]
  },
  {
   "cell_type": "code",
   "execution_count": 87,
   "metadata": {},
   "outputs": [
    {
     "name": "stderr",
     "output_type": "stream",
     "text": [
      "/tmp/ipykernel_29387/1677637057.py:21: UserWarning: Boolean Series key will be reindexed to match DataFrame index.\n",
      "  df_single = df[result_df[x_label] == x_value]\n"
     ]
    },
    {
     "data": {
      "image/png": "[encoded data removed]",
      "text/plain": [
       "<Figure size 640x480 with 1 Axes>"
      ]
     },
     "metadata": {},
     "output_type": "display_data"
    }
   ],
   "source": [
    "import matplotlib as mpl\n",
    "fig, ax = plt.subplots()\n",
    "width = 0.2\n",
    "x_label = 'Agent speed'\n",
    "legend = 'Method'\n",
    "\n",
    "x_values = (result_df[x_label].unique())\n",
    "x_values.sort()\n",
    "labels = result_df[legend].unique()\n",
    "\n",
    "cmap = mpl.cm.get_cmap(\"viridis\", len(labels))\n",
    "colors = cmap(np.linspace(0, 1, len(labels)))\n",
    "\n",
    "for i, label in enumerate(labels):\n",
    "    \n",
    "    df = result_df[result_df[legend] == label]\n",
    "    y_values = []\n",
    "    rects = []\n",
    "\n",
    "    for x_value in x_values:\n",
    "        df_single = df[result_df[x_label] == x_value]\n",
    "        y_values.append(1 - df_single['Dynamic Collision'].sum() / df_single['Total samples'].sum())\n",
    "    \n",
    "    rects.append(ax.bar(np.arange(len(x_values)) + i*width, y_values, width, color=colors[i], label=label))\n",
    "\n",
    "plt.xticks(range(x_values.shape[0]), x_values)\n",
    "plt.xlabel(x_label)\n",
    "plt.legend()    \n",
    "plt.show()"
   ]
  },
  {
   "cell_type": "code",
   "execution_count": 85,
   "metadata": {},
   "outputs": [
    {
     "name": "stderr",
     "output_type": "stream",
     "text": [
      "/tmp/ipykernel_29387/1076310573.py:21: UserWarning: Boolean Series key will be reindexed to match DataFrame index.\n",
      "  df_single = df[result_df[x_label] == x_value]\n"
     ]
    },
    {
     "data": {
      "image/png": "[encoded data removed]",
      "text/plain": [
       "<Figure size 640x480 with 1 Axes>"
      ]
     },
     "metadata": {},
     "output_type": "display_data"
    }
   ],
   "source": [
    "import matplotlib as mpl\n",
    "fig, ax = plt.subplots()\n",
    "width = 0.2\n",
    "x_label = 'Drone speed'\n",
    "legend = 'Method'\n",
    "\n",
    "x_values = (result_df[x_label].unique())\n",
    "x_values.sort()\n",
    "labels = result_df[legend].unique()\n",
    "\n",
    "cmap = mpl.cm.get_cmap(\"viridis\", len(labels))\n",
    "colors = cmap(np.linspace(0, 1, len(labels)))\n",
    "\n",
    "for i, label in enumerate(labels):\n",
    "    \n",
    "    df = result_df[result_df[legend] == label]\n",
    "    y_values = []\n",
    "    rects = []\n",
    "\n",
    "    for x_value in x_values:\n",
    "        df_single = df[result_df[x_label] == x_value]\n",
    "        y_values.append(df_single['Success'].sum() / df_single['Total samples'].sum())\n",
    "    \n",
    "    rects.append(ax.bar(np.arange(len(x_values)) + i*width, y_values, width, color=colors[i], label=label))\n",
    "\n",
    "plt.xticks(range(x_values.shape[0]), x_values)\n",
    "plt.xlabel(x_label)\n",
    "plt.legend()    \n",
    "plt.show()"
   ]
  },
  {
   "cell_type": "code",
   "execution_count": null,
   "metadata": {},
   "outputs": [],
   "source": []
  },
  {
   "cell_type": "code",
   "execution_count": null,
   "metadata": {},
   "outputs": [],
   "source": []
  }
 ],
 "metadata": {
  "kernelspec": {
   "display_name": "Python 3 (ipykernel)",
   "language": "python",
   "name": "python3"
  },
  "language_info": {
   "codemirror_mode": {
    "name": "ipython",
    "version": 3
   },
   "file_extension": ".py",
   "mimetype": "text/x-python",
   "name": "python",
   "nbconvert_exporter": "python",
   "pygments_lexer": "ipython3",
   "version": "3.9.13"
  },
  "vscode": {
   "interpreter": {
    "hash": "cecda4d74d940d1081caccc4a6c9eb27911befeeeff8b1ccd2f7360c58004889"
   }
  }
 },
 "nbformat": 4,
 "nbformat_minor": 2
}
