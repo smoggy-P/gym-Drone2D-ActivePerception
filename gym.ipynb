{
 "cells": [
  {
   "cell_type": "code",
   "execution_count": 3,
   "metadata": {},
   "outputs": [
    {
     "name": "stdout",
     "output_type": "stream",
     "text": [
      "pygame 2.1.2 (SDL 2.0.16, Python 3.9.13)\n",
      "Hello from the pygame community. https://www.pygame.org/contribute.html\n"
     ]
    },
    {
     "ename": "TypeError",
     "evalue": "__init__() missing 1 required positional argument: 'params'",
     "output_type": "error",
     "traceback": [
      "\u001b[0;31m---------------------------------------------------------------------------\u001b[0m",
      "\u001b[0;31mTypeError\u001b[0m                                 Traceback (most recent call last)",
      "Cell \u001b[0;32mIn [3], line 7\u001b[0m\n\u001b[1;32m      2\u001b[0m \u001b[39mimport\u001b[39;00m \u001b[39mgym\u001b[39;00m\n\u001b[1;32m      4\u001b[0m \u001b[39mfrom\u001b[39;00m \u001b[39myaw_planner\u001b[39;00m \u001b[39mimport\u001b[39;00m Oxford\n\u001b[0;32m----> 7\u001b[0m env \u001b[39m=\u001b[39m gym\u001b[39m.\u001b[39;49mmake(\u001b[39m'\u001b[39;49m\u001b[39mgym-2d-perception-v0\u001b[39;49m\u001b[39m'\u001b[39;49m)\n\u001b[1;32m      8\u001b[0m env\u001b[39m.\u001b[39mis_render \u001b[39m=\u001b[39m \u001b[39mFalse\u001b[39;00m\n\u001b[1;32m      9\u001b[0m policy \u001b[39m=\u001b[39m Oxford(env\u001b[39m.\u001b[39mdt, env\u001b[39m.\u001b[39mdim)\n",
      "File \u001b[0;32m~/anaconda3/envs/thesis/lib/python3.9/site-packages/gym/envs/registration.py:184\u001b[0m, in \u001b[0;36mmake\u001b[0;34m(id, **kwargs)\u001b[0m\n\u001b[1;32m    183\u001b[0m \u001b[39mdef\u001b[39;00m \u001b[39mmake\u001b[39m(\u001b[39mid\u001b[39m, \u001b[39m*\u001b[39m\u001b[39m*\u001b[39mkwargs):\n\u001b[0;32m--> 184\u001b[0m     \u001b[39mreturn\u001b[39;00m registry\u001b[39m.\u001b[39;49mmake(\u001b[39mid\u001b[39;49m, \u001b[39m*\u001b[39;49m\u001b[39m*\u001b[39;49mkwargs)\n",
      "File \u001b[0;32m~/anaconda3/envs/thesis/lib/python3.9/site-packages/gym/envs/registration.py:106\u001b[0m, in \u001b[0;36mEnvRegistry.make\u001b[0;34m(self, path, **kwargs)\u001b[0m\n\u001b[1;32m    104\u001b[0m     logger\u001b[39m.\u001b[39minfo(\u001b[39m\"\u001b[39m\u001b[39mMaking new env: \u001b[39m\u001b[39m%s\u001b[39;00m\u001b[39m\"\u001b[39m, path)\n\u001b[1;32m    105\u001b[0m spec \u001b[39m=\u001b[39m \u001b[39mself\u001b[39m\u001b[39m.\u001b[39mspec(path)\n\u001b[0;32m--> 106\u001b[0m env \u001b[39m=\u001b[39m spec\u001b[39m.\u001b[39;49mmake(\u001b[39m*\u001b[39;49m\u001b[39m*\u001b[39;49mkwargs)\n\u001b[1;32m    107\u001b[0m \u001b[39m# We used to have people override _reset/_step rather than\u001b[39;00m\n\u001b[1;32m    108\u001b[0m \u001b[39m# reset/step. Set _gym_disable_underscore_compat = True on\u001b[39;00m\n\u001b[1;32m    109\u001b[0m \u001b[39m# your environment if you use these methods and don't want\u001b[39;00m\n\u001b[1;32m    110\u001b[0m \u001b[39m# compatibility code to be invoked.\u001b[39;00m\n\u001b[1;32m    111\u001b[0m \u001b[39mif\u001b[39;00m (\n\u001b[1;32m    112\u001b[0m     \u001b[39mhasattr\u001b[39m(env, \u001b[39m\"\u001b[39m\u001b[39m_reset\u001b[39m\u001b[39m\"\u001b[39m)\n\u001b[1;32m    113\u001b[0m     \u001b[39mand\u001b[39;00m \u001b[39mhasattr\u001b[39m(env, \u001b[39m\"\u001b[39m\u001b[39m_step\u001b[39m\u001b[39m\"\u001b[39m)\n\u001b[1;32m    114\u001b[0m     \u001b[39mand\u001b[39;00m \u001b[39mnot\u001b[39;00m \u001b[39mgetattr\u001b[39m(env, \u001b[39m\"\u001b[39m\u001b[39m_gym_disable_underscore_compat\u001b[39m\u001b[39m\"\u001b[39m, \u001b[39mFalse\u001b[39;00m)\n\u001b[1;32m    115\u001b[0m ):\n",
      "File \u001b[0;32m~/anaconda3/envs/thesis/lib/python3.9/site-packages/gym/envs/registration.py:76\u001b[0m, in \u001b[0;36mEnvSpec.make\u001b[0;34m(self, **kwargs)\u001b[0m\n\u001b[1;32m     74\u001b[0m \u001b[39melse\u001b[39;00m:\n\u001b[1;32m     75\u001b[0m     \u001b[39mcls\u001b[39m \u001b[39m=\u001b[39m load(\u001b[39mself\u001b[39m\u001b[39m.\u001b[39mentry_point)\n\u001b[0;32m---> 76\u001b[0m     env \u001b[39m=\u001b[39m \u001b[39mcls\u001b[39;49m(\u001b[39m*\u001b[39;49m\u001b[39m*\u001b[39;49m_kwargs)\n\u001b[1;32m     78\u001b[0m \u001b[39m# Make the environment aware of which spec it came from.\u001b[39;00m\n\u001b[1;32m     79\u001b[0m spec \u001b[39m=\u001b[39m copy\u001b[39m.\u001b[39mdeepcopy(\u001b[39mself\u001b[39m)\n",
      "\u001b[0;31mTypeError\u001b[0m: __init__() missing 1 required positional argument: 'params'"
     ]
    }
   ],
   "source": [
    "from tqdm import tqdm\n",
    "import gym\n",
    "\n",
    "from yaw_planner import Oxford\n",
    "\n",
    "\n",
    "env = gym.make('gym-2d-perception-v0')\n",
    "env.is_render = False\n",
    "policy = Oxford(env.dt, env.dim)\n",
    "# plt.ion()\n",
    "max_step = 10000\n",
    "rewards = []\n",
    "steps = []\n",
    "success = 0\n",
    "fail = 0\n",
    "for i in tqdm(range(max_step)):\n",
    "    \n",
    "    a = policy.plan(env.observation)\n",
    "    observation, reward, done= env.step(a)\n",
    "    if reward == 100:\n",
    "        success += 1\n",
    "    if reward == -100:\n",
    "        fail += 1\n",
    "    if done:\n",
    "        env.reset()\n",
    "\n",
    "    rewards.append(reward)\n",
    "    steps.append(i)\n",
    "\n",
    "    # env.render()"
   ]
  },
  {
   "cell_type": "code",
   "execution_count": null,
   "metadata": {},
   "outputs": [
    {
     "name": "stdout",
     "output_type": "stream",
     "text": [
      "0.828125\n"
     ]
    }
   ],
   "source": [
    "print(success / (success + fail))"
   ]
  },
  {
   "cell_type": "code",
   "execution_count": 3,
   "metadata": {},
   "outputs": [
    {
     "name": "stderr",
     "output_type": "stream",
     "text": [
      "100%|██████████| 10000/10000 [03:32<00:00, 47.08it/s]\n"
     ]
    }
   ],
   "source": [
    "from yaw_planner import LookAhead\n",
    "\n",
    "env = gym.make('gym-2d-perception-v0')\n",
    "env.render = False\n",
    "policy = LookAhead(env.dt)\n",
    "# policy = Oxford(env.dt, env.dim)\n",
    "# plt.ion()\n",
    "max_step = 10000\n",
    "rewards = []\n",
    "steps = []\n",
    "success = 0\n",
    "fail = 0\n",
    "for i in tqdm(range(max_step)):\n",
    "    \n",
    "    a = policy.plan(env.observation)\n",
    "    observation, reward, done= env.step(a)\n",
    "    if reward == 100:\n",
    "        success += 1\n",
    "    if reward == -100:\n",
    "        fail += 1\n",
    "    if done:\n",
    "        env.reset()\n",
    "\n",
    "    rewards.append(reward)\n",
    "    steps.append(i)"
   ]
  },
  {
   "cell_type": "code",
   "execution_count": 4,
   "metadata": {},
   "outputs": [
    {
     "name": "stdout",
     "output_type": "stream",
     "text": [
      "0.8852459016393442\n"
     ]
    }
   ],
   "source": [
    "print(success / (success + fail))"
   ]
  },
  {
   "cell_type": "code",
   "execution_count": 5,
   "metadata": {},
   "outputs": [
    {
     "name": "stderr",
     "output_type": "stream",
     "text": [
      "100%|██████████| 10000/10000 [03:38<00:00, 45.76it/s]\n"
     ]
    }
   ],
   "source": [
    "from yaw_planner import NoControl\n",
    "\n",
    "env = gym.make('gym-2d-perception-v0')\n",
    "env.render = False\n",
    "policy = NoControl()\n",
    "# policy = Oxford(env.dt, env.dim)\n",
    "# plt.ion()\n",
    "max_step = 10000\n",
    "rewards = []\n",
    "steps = []\n",
    "success = 0\n",
    "fail = 0\n",
    "for i in tqdm(range(max_step)):\n",
    "    \n",
    "    a = policy.plan(env.observation)\n",
    "    observation, reward, done= env.step(a)\n",
    "    if reward == 100:\n",
    "        success += 1\n",
    "    if reward == -100:\n",
    "        fail += 1\n",
    "    if done:\n",
    "        env.reset()\n",
    "\n",
    "    rewards.append(reward)\n",
    "    steps.append(i)"
   ]
  },
  {
   "cell_type": "code",
   "execution_count": 6,
   "metadata": {},
   "outputs": [
    {
     "name": "stdout",
     "output_type": "stream",
     "text": [
      "0.6111111111111112\n"
     ]
    }
   ],
   "source": [
    "print(success / (success + fail))"
   ]
  },
  {
   "cell_type": "code",
   "execution_count": null,
   "metadata": {},
   "outputs": [],
   "source": []
  }
 ],
 "metadata": {
  "kernelspec": {
   "display_name": "Python 3.9.13 ('thesis')",
   "language": "python",
   "name": "python3"
  },
  "language_info": {
   "codemirror_mode": {
    "name": "ipython",
    "version": 3
   },
   "file_extension": ".py",
   "mimetype": "text/x-python",
   "name": "python",
   "nbconvert_exporter": "python",
   "pygments_lexer": "ipython3",
   "version": "3.9.13"
  },
  "orig_nbformat": 4,
  "vscode": {
   "interpreter": {
    "hash": "cecda4d74d940d1081caccc4a6c9eb27911befeeeff8b1ccd2f7360c58004889"
   }
  }
 },
 "nbformat": 4,
 "nbformat_minor": 2
}
