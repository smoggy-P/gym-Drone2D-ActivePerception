{
 "cells": [
  {
   "cell_type": "code",
   "execution_count": 1,
   "metadata": {},
   "outputs": [
    {
     "name": "stdout",
     "output_type": "stream",
     "text": [
      "pygame 2.1.2 (SDL 2.0.16, Python 3.9.13)\n",
      "Hello from the pygame community. https://www.pygame.org/contribute.html\n"
     ]
    },
    {
     "name": "stderr",
     "output_type": "stream",
     "text": [
      "  0%|          | 0/10000 [00:00<?, ?it/s]/home/smoggy/thesis/gym-Drone2D-ActivePerception/yaw_planner.py:69: RuntimeWarning: invalid value encountered in divide\n",
      "  view_map = np.where(np.arccos(((x - drone.x)*vec_yaw[0] + (y - drone.y)*vec_yaw[1]) / np.sqrt((drone.x - x)**2 + (drone.y - y)**2)) <= view_angle, np.where(((drone.x - x)**2 + (drone.y - y)**2 <= drone.yaw_depth ** 2), 1, 0), 0)\n",
      " 86%|████████▌ | 8553/10000 [04:49<00:48, 29.56it/s]\n"
     ]
    },
    {
     "ename": "TypeError",
     "evalue": "unsupported operand type(s) for *: 'float' and 'NoneType'",
     "output_type": "error",
     "traceback": [
      "\u001b[0;31m---------------------------------------------------------------------------\u001b[0m",
      "\u001b[0;31mTypeError\u001b[0m                                 Traceback (most recent call last)",
      "Cell \u001b[0;32mIn [1], line 19\u001b[0m\n\u001b[1;32m     16\u001b[0m \u001b[39mfor\u001b[39;00m i \u001b[39min\u001b[39;00m tqdm(\u001b[39mrange\u001b[39m(max_step)):\n\u001b[1;32m     18\u001b[0m     a \u001b[39m=\u001b[39m policy\u001b[39m.\u001b[39mplan(env\u001b[39m.\u001b[39mobservation)\n\u001b[0;32m---> 19\u001b[0m     observation, reward, done\u001b[39m=\u001b[39m env\u001b[39m.\u001b[39;49mstep(a)\n\u001b[1;32m     20\u001b[0m     \u001b[39mif\u001b[39;00m reward \u001b[39m==\u001b[39m \u001b[39m100\u001b[39m:\n\u001b[1;32m     21\u001b[0m         success \u001b[39m+\u001b[39m\u001b[39m=\u001b[39m \u001b[39m1\u001b[39m\n",
      "File \u001b[0;32m~/thesis/gym-Drone2D-ActivePerception/env/gym_2d.py:139\u001b[0m, in \u001b[0;36mDrone2DEnv.step\u001b[0;34m(self, a)\u001b[0m\n\u001b[1;32m    137\u001b[0m \u001b[39mfor\u001b[39;00m agent \u001b[39min\u001b[39;00m \u001b[39mself\u001b[39m\u001b[39m.\u001b[39magents:\n\u001b[1;32m    138\u001b[0m     \u001b[39mif\u001b[39;00m agent\u001b[39m.\u001b[39mseen:\n\u001b[0;32m--> 139\u001b[0m         estimate_pos \u001b[39m=\u001b[39m agent\u001b[39m.\u001b[39mestimate_pos \u001b[39m+\u001b[39m i \u001b[39m*\u001b[39;49m \u001b[39mself\u001b[39;49m\u001b[39m.\u001b[39;49mdt \u001b[39m*\u001b[39;49m agent\u001b[39m.\u001b[39;49mestimate_vel\n\u001b[1;32m    140\u001b[0m         \u001b[39mif\u001b[39;00m norm(estimate_pos \u001b[39m-\u001b[39m pos) \u001b[39m<\u001b[39m\u001b[39m=\u001b[39m \u001b[39mself\u001b[39m\u001b[39m.\u001b[39mdrone\u001b[39m.\u001b[39mradius \u001b[39m+\u001b[39m agent\u001b[39m.\u001b[39mradius:\n\u001b[1;32m    141\u001b[0m             \u001b[39mself\u001b[39m\u001b[39m.\u001b[39mstate \u001b[39m=\u001b[39m state_machine[\u001b[39m'\u001b[39m\u001b[39mPLANNING\u001b[39m\u001b[39m'\u001b[39m]\n",
      "\u001b[0;31mTypeError\u001b[0m: unsupported operand type(s) for *: 'float' and 'NoneType'"
     ]
    }
   ],
   "source": [
    "from tqdm import tqdm\n",
    "import gym\n",
    "\n",
    "from yaw_planner import Oxford\n",
    "\n",
    "\n",
    "env = gym.make('gym-2d-perception-v0')\n",
    "# policy = LookAhead(env.dt)\n",
    "policy = Oxford(env.dt, env.dim)\n",
    "# plt.ion()\n",
    "max_step = 10000\n",
    "rewards = []\n",
    "steps = []\n",
    "success = 0\n",
    "fail = 0\n",
    "for i in tqdm(range(max_step)):\n",
    "    \n",
    "    a = policy.plan(env.observation)\n",
    "    observation, reward, done= env.step(a)\n",
    "    if reward == 100:\n",
    "        success += 1\n",
    "    if reward == -100:\n",
    "        fail += 1\n",
    "    if done:\n",
    "        env.reset()\n",
    "\n",
    "    rewards.append(reward)\n",
    "    steps.append(i)\n",
    "\n",
    "    env.render()"
   ]
  },
  {
   "cell_type": "code",
   "execution_count": 2,
   "metadata": {},
   "outputs": [
    {
     "name": "stdout",
     "output_type": "stream",
     "text": [
      "0.9069767441860465\n"
     ]
    }
   ],
   "source": [
    "print(success / (success + fail))"
   ]
  },
  {
   "cell_type": "code",
   "execution_count": 4,
   "metadata": {},
   "outputs": [
    {
     "name": "stderr",
     "output_type": "stream",
     "text": [
      "100%|██████████| 10000/10000 [03:54<00:00, 42.68it/s]\n"
     ]
    }
   ],
   "source": [
    "from yaw_planner import LookAhead\n",
    "\n",
    "env = gym.make('gym-2d-perception-v0')\n",
    "env.render = False\n",
    "policy = LookAhead(env.dt)\n",
    "# policy = Oxford(env.dt, env.dim)\n",
    "# plt.ion()\n",
    "max_step = 10000\n",
    "rewards = []\n",
    "steps = []\n",
    "success = 0\n",
    "fail = 0\n",
    "for i in tqdm(range(max_step)):\n",
    "    \n",
    "    a = policy.plan(env.observation)\n",
    "    observation, reward, done= env.step(a)\n",
    "    if reward == 100:\n",
    "        success += 1\n",
    "    if reward == -100:\n",
    "        fail += 1\n",
    "    if done:\n",
    "        env.reset()\n",
    "\n",
    "    rewards.append(reward)\n",
    "    steps.append(i)"
   ]
  },
  {
   "cell_type": "code",
   "execution_count": 5,
   "metadata": {},
   "outputs": [
    {
     "name": "stdout",
     "output_type": "stream",
     "text": [
      "0.9310344827586207\n"
     ]
    }
   ],
   "source": [
    "print(success / (success + fail))"
   ]
  },
  {
   "cell_type": "code",
   "execution_count": 6,
   "metadata": {},
   "outputs": [
    {
     "ename": "TypeError",
     "evalue": "__init__() takes 1 positional argument but 2 were given",
     "output_type": "error",
     "traceback": [
      "\u001b[0;31m---------------------------------------------------------------------------\u001b[0m",
      "\u001b[0;31mTypeError\u001b[0m                                 Traceback (most recent call last)",
      "Cell \u001b[0;32mIn [6], line 5\u001b[0m\n\u001b[1;32m      3\u001b[0m env \u001b[39m=\u001b[39m gym\u001b[39m.\u001b[39mmake(\u001b[39m'\u001b[39m\u001b[39mgym-2d-perception-v0\u001b[39m\u001b[39m'\u001b[39m)\n\u001b[1;32m      4\u001b[0m env\u001b[39m.\u001b[39mrender \u001b[39m=\u001b[39m \u001b[39mFalse\u001b[39;00m\n\u001b[0;32m----> 5\u001b[0m policy \u001b[39m=\u001b[39m NoControl(env\u001b[39m.\u001b[39;49mdt)\n\u001b[1;32m      6\u001b[0m \u001b[39m# policy = Oxford(env.dt, env.dim)\u001b[39;00m\n\u001b[1;32m      7\u001b[0m \u001b[39m# plt.ion()\u001b[39;00m\n\u001b[1;32m      8\u001b[0m max_step \u001b[39m=\u001b[39m \u001b[39m10000\u001b[39m\n",
      "\u001b[0;31mTypeError\u001b[0m: __init__() takes 1 positional argument but 2 were given"
     ]
    }
   ],
   "source": [
    "from yaw_planner import NoControl\n",
    "\n",
    "env = gym.make('gym-2d-perception-v0')\n",
    "env.render = False\n",
    "policy = NoControl()\n",
    "# policy = Oxford(env.dt, env.dim)\n",
    "# plt.ion()\n",
    "max_step = 10000\n",
    "rewards = []\n",
    "steps = []\n",
    "success = 0\n",
    "fail = 0\n",
    "for i in tqdm(range(max_step)):\n",
    "    \n",
    "    a = policy.plan(env.observation)\n",
    "    observation, reward, done= env.step(a)\n",
    "    if reward == 100:\n",
    "        success += 1\n",
    "    if reward == -100:\n",
    "        fail += 1\n",
    "    if done:\n",
    "        env.reset()\n",
    "\n",
    "    rewards.append(reward)\n",
    "    steps.append(i)"
   ]
  },
  {
   "cell_type": "code",
   "execution_count": 7,
   "metadata": {},
   "outputs": [
    {
     "name": "stdout",
     "output_type": "stream",
     "text": [
      "0.9310344827586207\n"
     ]
    }
   ],
   "source": [
    "print(success / (success + fail))"
   ]
  },
  {
   "cell_type": "code",
   "execution_count": null,
   "metadata": {},
   "outputs": [],
   "source": []
  }
 ],
 "metadata": {
  "kernelspec": {
   "display_name": "Python 3.9.13 ('thesis')",
   "language": "python",
   "name": "python3"
  },
  "language_info": {
   "codemirror_mode": {
    "name": "ipython",
    "version": 3
   },
   "file_extension": ".py",
   "mimetype": "text/x-python",
   "name": "python",
   "nbconvert_exporter": "python",
   "pygments_lexer": "ipython3",
   "version": "3.9.13"
  },
  "orig_nbformat": 4,
  "vscode": {
   "interpreter": {
    "hash": "cecda4d74d940d1081caccc4a6c9eb27911befeeeff8b1ccd2f7360c58004889"
   }
  }
 },
 "nbformat": 4,
 "nbformat_minor": 2
}
