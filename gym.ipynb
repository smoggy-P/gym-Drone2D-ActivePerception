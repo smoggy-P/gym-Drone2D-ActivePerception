{
 "cells": [
  {
   "cell_type": "code",
   "execution_count": 1,
   "metadata": {},
   "outputs": [
    {
     "name": "stdout",
     "output_type": "stream",
     "text": [
      "pygame 2.1.2 (SDL 2.0.16, Python 3.9.12)\n",
      "Hello from the pygame community. https://www.pygame.org/contribute.html\n"
     ]
    }
   ],
   "source": [
    "from __future__ import division\n",
    "from sqlalchemy import false, true\n",
    "from pyorca import Agent, get_avoidance_velocity, orca, normalized, perp\n",
    "from numpy import array, rint, linspace, pi, cos, sin\n",
    "from numpy.linalg import norm\n",
    "from gym import spaces\n",
    "import gym\n",
    "import pygame\n",
    "import itertools\n",
    "import random\n",
    "\n",
    "N_AGENTS = 15\n",
    "RADIUS = 8.\n",
    "MAX_SPEED = 4\n",
    "\n",
    "def check_collision(agents, agent):\n",
    "    for agent_ in agents:\n",
    "        if norm(agent_.position - agent.position) <= agent_.radius + agent.radius:\n",
    "            return False\n",
    "    return True\n",
    "    \n",
    "\n",
    "def init_agents():\n",
    "    agents = []\n",
    "    i = 0\n",
    "    while(i <= N_AGENTS):\n",
    "        theta = 2 * pi * i / N_AGENTS\n",
    "        x = RADIUS * array((cos(theta), sin(theta))) #+ random.uniform(-1, 1)\n",
    "        vel = normalized(-x) * MAX_SPEED\n",
    "        pos = (random.uniform(-20, 20), random.uniform(-20, 20))\n",
    "        new_agent = Agent(pos, (0., 0.), 1., MAX_SPEED, vel)\n",
    "        if check_collision(agents, new_agent):\n",
    "            agents.append(new_agent)\n",
    "            i += 1\n",
    "    return agents"
   ]
  },
  {
   "cell_type": "code",
   "execution_count": 2,
   "metadata": {},
   "outputs": [],
   "source": [
    "from gym.envs.classic_control import rendering\n",
    "class Drone2DEnv(gym.Env):\n",
    "     \n",
    "    def __init__(self):\n",
    "        self.dt = 1/20\n",
    "        self.agents = init_agents()\n",
    "        self.action_space = None\n",
    "        self.observation_space = None\n",
    "        self.viewer = rendering.Viewer(600, 400)\n",
    "    \n",
    "    def step(self, action):\n",
    "        new_vels = [None] * len(self.agents)\n",
    "        for i, agent in enumerate(self.agents):\n",
    "            candidates = self.agents[:i] + self.agents[i + 1:]\n",
    "            new_vels[i], _ = orca(agent, candidates, 1, self.dt)\n",
    "\n",
    "        for i, agent in enumerate(self.agents):\n",
    "            agent.velocity = new_vels[i]\n",
    "            agent.position += agent.velocity * self.dt\n",
    "            # real_pos = agent.position * scale + origin\n",
    "            # if real_pos[0] < 0 or real_pos[0] > dim[0]:\n",
    "            #     agent.velocity[0] = -agent.velocity[0]\n",
    "            # if real_pos[1] < 0 or real_pos[1] > dim[1]:\n",
    "            #     agent.velocity[1] = -agent.velocity[1]\n",
    "        reward = 10\n",
    "        \n",
    "        done = False\n",
    "        \n",
    "        return self.state, reward, done, {}\n",
    "    \n",
    "    def reset(self):\n",
    "        self.agents = init_agents()\n",
    "        return self.state\n",
    "        \n",
    "    def render(self, mode='human'):\n",
    "        # 画一个直径为 30 的园\n",
    "        circle = rendering.make_circle(4)\n",
    "        \n",
    "        # 添加一个平移操作\n",
    "        circle_transform = rendering.Transform(translation=(100, 200))\n",
    "        # 让圆添加平移这个属性,\n",
    "        circle.add_attr(circle_transform)\n",
    "        \n",
    "        self.viewer.add_geom(circle)\n",
    "        \n",
    "        return self.viewer.render(return_rgb_array=mode == 'rgb_array')\n",
    "        "
   ]
  },
  {
   "cell_type": "code",
   "execution_count": 3,
   "metadata": {},
   "outputs": [],
   "source": [
    "if __name__ == '__main__':\n",
    "    t = Drone2DEnv()\n",
    "    while True:\n",
    "        t.render()"
   ]
  },
  {
   "cell_type": "code",
   "execution_count": null,
   "metadata": {},
   "outputs": [],
   "source": []
  }
 ],
 "metadata": {
  "kernelspec": {
   "display_name": "Python 3.9.12 ('base')",
   "language": "python",
   "name": "python3"
  },
  "language_info": {
   "codemirror_mode": {
    "name": "ipython",
    "version": 3
   },
   "file_extension": ".py",
   "mimetype": "text/x-python",
   "name": "python",
   "nbconvert_exporter": "python",
   "pygments_lexer": "ipython3",
   "version": "3.9.12"
  },
  "orig_nbformat": 4,
  "vscode": {
   "interpreter": {
    "hash": "4ac2cf368e026f7708e78d13b0ff7f4c62c0c7efcbe383dc9a3f8fe8c7433209"
   }
  }
 },
 "nbformat": 4,
 "nbformat_minor": 2
}
